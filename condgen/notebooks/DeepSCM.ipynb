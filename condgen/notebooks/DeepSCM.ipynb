{
 "cells": [
  {
   "cell_type": "markdown",
   "id": "a3e05331-0dd3-4b2c-ab18-31a4bebeccc5",
   "metadata": {},
   "source": [
    "# DEEP SCM"
   ]
  },
  {
   "cell_type": "code",
   "execution_count": 8,
   "id": "6d8f679c-70e7-4ccc-9c49-e80fc8b8bca3",
   "metadata": {},
   "outputs": [],
   "source": [
    "import wandb\n",
    "from deepscm.experiments.morphomnist.sem_vi.independent_sem import IndependentVISEM\n",
    "\n",
    "api = wandb.Api()\n",
    "\n",
    "run = api.run(\"edebrouwer/counterfactuals/2se71jn9\")\n",
    "\n",
    "model_cls = \n",
    "fname = [ f for f in run.files() if \"ckpt\" in f.name][0]\n",
    "run.file(fname).download(replace = True, root = \".\")\n",
    "model = model_cls.load_from_checkpoint(fname,num_classes_model = num_classes_model)#run.config[\"num_classes_model\"])\n",
    "os.remove(fname)\n",
    "\n",
    "if (num_classes_model != 1) and (model_cls != CFBaseline):\n",
    "    fname = [f.name for f in run.files() if ((\"ckpt\" in f.name) and (\"stage2\" in f.name))][0]\n",
    "else:\n",
    "    fname = [f.name for f in run.files() if ((\"ckpt\" in f.name))][0]\n",
    "\n",
    "run.file(fname).download(replace = True, root = \".\")\n",
    "model = model_cls.load_from_checkpoint(fname,num_classes_model = num_classes_model)#run.config[\"num_classes_model\"])\n",
    "os.remove(fname)"
   ]
  },
  {
   "cell_type": "code",
   "execution_count": 11,
   "id": "031eaf12-6bf7-43bd-b3ae-8185710b1557",
   "metadata": {},
   "outputs": [],
   "source": []
  },
  {
   "cell_type": "code",
   "execution_count": 13,
   "id": "b25985d3-7ffa-4e5c-90bb-43115f6afac6",
   "metadata": {},
   "outputs": [],
   "source": []
  },
  {
   "cell_type": "code",
   "execution_count": null,
   "id": "644ed61d-d07c-442a-b546-2a5c4be69fb6",
   "metadata": {},
   "outputs": [],
   "source": [
    "\n",
    "\n"
   ]
  }
 ],
 "metadata": {
  "kernelspec": {
   "display_name": "Python 3 (ipykernel)",
   "language": "python",
   "name": "python3"
  },
  "language_info": {
   "codemirror_mode": {
    "name": "ipython",
    "version": 3
   },
   "file_extension": ".py",
   "mimetype": "text/x-python",
   "name": "python",
   "nbconvert_exporter": "python",
   "pygments_lexer": "ipython3",
   "version": "3.9.7"
  }
 },
 "nbformat": 4,
 "nbformat_minor": 5
}
